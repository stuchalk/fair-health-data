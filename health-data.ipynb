{
 "cells": [
  {
   "cell_type": "code",
   "execution_count": 1,
   "metadata": {},
   "outputs": [
    {
     "name": "stdout",
     "output_type": "stream",
     "text": [
      "File /Users/n00002621/Dropbox/Websites/github/fair-health-data/healthdata.csv selected\n"
     ]
    }
   ],
   "source": [
    "## Get your CSV data file\n",
    "from getfile import *\n",
    "from writesd import createsd\n",
    "from datetime import datetime\n",
    "from pathlib import Path\n",
    "import csv\n",
    "import json\n",
    "filename = openfile_dialog()\n",
    "print (\"File \" + filename + \" selected\")"
   ]
  },
  {
   "cell_type": "code",
   "execution_count": 2,
   "metadata": {
    "pycharm": {
     "name": "#%%\n"
    }
   },
   "outputs": [
    {
     "name": "stdout",
     "output_type": "stream",
     "text": [
      "File /Users/n00002621/Dropbox/Websites/github/fair-health-data/healthdata.csv imported\n"
     ]
    }
   ],
   "source": [
    "## Import your CSV data file\n",
    "flist = []\n",
    "with open(filename, 'r') as data:\n",
    "    for line in csv.reader(data):\n",
    "        flist.append(line)\n",
    "print (\"File \" + filename + \" imported\")"
   ]
  },
  {
   "cell_type": "code",
   "execution_count": 3,
   "metadata": {
    "pycharm": {
     "name": "#%%\n"
    }
   },
   "outputs": [
    {
     "ename": "TypeError",
     "evalue": "replace() takes 2 positional arguments but 3 were given",
     "output_type": "error",
     "traceback": [
      "\u001B[0;31m---------------------------------------------------------------------------\u001B[0m",
      "\u001B[0;31mTypeError\u001B[0m                                 Traceback (most recent call last)",
      "\u001B[0;32m<ipython-input-3-c89ca135d361>\u001B[0m in \u001B[0;36m<module>\u001B[0;34m\u001B[0m\n\u001B[1;32m      7\u001B[0m     \u001B[0mfile\u001B[0m \u001B[0;34m=\u001B[0m \u001B[0mPath\u001B[0m\u001B[0;34m(\u001B[0m\u001B[0;34m\"data/sjc\"\u001B[0m \u001B[0;34m+\u001B[0m \u001B[0mdate\u001B[0m \u001B[0;34m+\u001B[0m \u001B[0;34m\".jsonld\"\u001B[0m\u001B[0;34m)\u001B[0m\u001B[0;34m\u001B[0m\u001B[0;34m\u001B[0m\u001B[0m\n\u001B[1;32m      8\u001B[0m     \u001B[0;32mif\u001B[0m \u001B[0;32mnot\u001B[0m \u001B[0mfile\u001B[0m\u001B[0;34m.\u001B[0m\u001B[0mis_file\u001B[0m\u001B[0;34m(\u001B[0m\u001B[0;34m)\u001B[0m\u001B[0;34m:\u001B[0m\u001B[0;34m\u001B[0m\u001B[0;34m\u001B[0m\u001B[0m\n\u001B[0;32m----> 9\u001B[0;31m         \u001B[0mprint\u001B[0m\u001B[0;34m(\u001B[0m\u001B[0;34m\"Writing file \"\u001B[0m \u001B[0;34m+\u001B[0m \u001B[0mfile\u001B[0m\u001B[0;34m.\u001B[0m\u001B[0mreplace\u001B[0m\u001B[0;34m(\u001B[0m\u001B[0;34m'data/'\u001B[0m\u001B[0;34m,\u001B[0m\u001B[0;34m''\u001B[0m\u001B[0;34m)\u001B[0m\u001B[0;34m)\u001B[0m\u001B[0;34m\u001B[0m\u001B[0;34m\u001B[0m\u001B[0m\n\u001B[0m\u001B[1;32m     10\u001B[0m         \u001B[0mjsonld\u001B[0m \u001B[0;34m=\u001B[0m \u001B[0mcreatesd\u001B[0m\u001B[0;34m(\u001B[0m\u001B[0mday\u001B[0m\u001B[0;34m)\u001B[0m\u001B[0;34m\u001B[0m\u001B[0;34m\u001B[0m\u001B[0m\n\u001B[1;32m     11\u001B[0m         \u001B[0mf\u001B[0m \u001B[0;34m=\u001B[0m \u001B[0mopen\u001B[0m\u001B[0;34m(\u001B[0m\u001B[0mfile\u001B[0m\u001B[0;34m,\u001B[0m \u001B[0;34m\"w\"\u001B[0m\u001B[0;34m)\u001B[0m\u001B[0;34m\u001B[0m\u001B[0;34m\u001B[0m\u001B[0m\n",
      "\u001B[0;31mTypeError\u001B[0m: replace() takes 2 positional arguments but 3 were given"
     ]
    }
   ],
   "source": [
    "## Create the data files\n",
    "for i,day in enumerate(flist):\n",
    "    if i == 0:\n",
    "        continue\n",
    "    t = datetime.strptime(day[1], '%m/%d/%y')\n",
    "    date = t.strftime('%m%d%y')\n",
    "    file = \"sjc\" + date + \".jsonld\"\n",
    "    path = Path(\"data/\" + file)\n",
    "    if not path.is_file():\n",
    "        print(\"Writing file \" + file)\n",
    "        jsonld = createsd(day)\n",
    "        f = open(path, \"w\")\n",
    "        f.write(json.dumps(jsonld))\n",
    "        f.close()"
   ]
  },
  {
   "cell_type": "code",
   "execution_count": null,
   "metadata": {},
   "outputs": [],
   "source": []
  }
 ],
 "metadata": {
  "kernelspec": {
   "display_name": "Python 3",
   "language": "python",
   "name": "python3"
  },
  "language_info": {
   "codemirror_mode": {
    "name": "ipython",
    "version": 3
   },
   "file_extension": ".py",
   "mimetype": "text/x-python",
   "name": "python",
   "nbconvert_exporter": "python",
   "pygments_lexer": "ipython3",
   "version": "3.9.4"
  }
 },
 "nbformat": 4,
 "nbformat_minor": 1
}