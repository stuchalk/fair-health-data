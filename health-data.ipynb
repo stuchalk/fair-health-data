{
 "cells": [
  {
   "cell_type": "markdown",
   "metadata": {
    "pycharm": {
     "name": "#%% md\n"
    }
   },
   "source": [
    "### Select and upload your .csv data file"
   ]
  },
  {
   "cell_type": "code",
   "execution_count": 1,
   "metadata": {
    "pycharm": {
     "name": "#%%\n"
    }
   },
   "outputs": [
    {
     "name": "stdout",
     "output_type": "stream",
     "text": [
      "File /Users/n00002621/Dropbox/Websites/github/fair-health-data/healthdata.csv selected\n"
     ]
    }
   ],
   "source": [
    "from PyQt5 import QtWidgets\n",
    "fldr = \"\"\n",
    "app = QtWidgets.QApplication([fldr])\n",
    "fname = QtWidgets.QFileDialog.getOpenFileName(None, \"Select a file...\", fldr, filter=\"All files (*)\")\n",
    "filename = fname[0]\n",
    "print (\"File \" + filename + \" selected\")"
   ]
  },
  {
   "cell_type": "markdown",
   "metadata": {
    "pycharm": {
     "name": "#%% md\n"
    }
   },
   "source": [
    "### Import your CSV data file into a variable"
   ]
  },
  {
   "cell_type": "code",
   "execution_count": 2,
   "metadata": {
    "pycharm": {
     "name": "#%%\n"
    }
   },
   "outputs": [
    {
     "name": "stdout",
     "output_type": "stream",
     "text": [
      "File /Users/n00002621/Dropbox/Websites/github/fair-health-data/healthdata.csv imported\n"
     ]
    }
   ],
   "source": [
    "import csv\n",
    "flist = []\n",
    "with open(filename, 'r') as data:\n",
    "    for line in csv.reader(data):\n",
    "        flist.append(line)\n",
    "print (\"File \" + filename + \" imported\")"
   ]
  },
  {
   "cell_type": "markdown",
   "metadata": {
    "pycharm": {
     "name": "#%% md\n"
    }
   },
   "source": [
    "### Create and save any new data files"
   ]
  },
  {
   "cell_type": "code",
   "execution_count": 3,
   "metadata": {
    "pycharm": {
     "name": "#%%\n"
    }
   },
   "outputs": [
    {
     "name": "stdout",
     "output_type": "stream",
     "text": [
      "Writing file sjc040121.jsonld\n",
      "Writing file sjc040221.jsonld\n",
      "Writing file sjc040321.jsonld\n",
      "Writing file sjc040421.jsonld\n",
      "Writing file sjc040521.jsonld\n",
      "Writing file sjc040621.jsonld\n",
      "Writing file sjc040721.jsonld\n",
      "Writing file sjc040821.jsonld\n",
      "Writing file sjc040921.jsonld\n",
      "Writing file sjc041021.jsonld\n",
      "Writing file sjc041121.jsonld\n",
      "Writing file sjc041221.jsonld\n",
      "Writing file sjc041321.jsonld\n",
      "Writing file sjc041421.jsonld\n",
      "Writing file sjc041521.jsonld\n",
      "Writing file sjc041621.jsonld\n",
      "Writing file sjc041721.jsonld\n",
      "Writing file sjc041821.jsonld\n",
      "Writing file sjc041921.jsonld\n",
      "Writing file sjc042021.jsonld\n",
      "Writing file sjc042121.jsonld\n",
      "Writing file sjc042221.jsonld\n",
      "Writing file sjc042321.jsonld\n",
      "Writing file sjc042421.jsonld\n",
      "Writing file sjc042521.jsonld\n",
      "Writing file sjc042621.jsonld\n",
      "Writing file sjc042721.jsonld\n",
      "Writing file sjc042821.jsonld\n",
      "Writing file sjc042921.jsonld\n",
      "Writing file sjc043021.jsonld\n"
     ]
    }
   ],
   "source": [
    "from writesd import createsd\n",
    "from datetime import datetime\n",
    "from pathlib import Path\n",
    "import json\n",
    "for i,day in enumerate(flist):\n",
    "    if i == 0:\n",
    "        continue\n",
    "    today = datetime.strptime(day[1], '%m/%d/%y')\n",
    "    date = today.strftime('%m%d%y')\n",
    "    file = \"sjc\" + date + \".jsonld\"\n",
    "    last = datetime(2021, 3, 31)\n",
    "    path = Path(\"data/\" + file)\n",
    "    if not path.is_file() and today > last:\n",
    "        print(\"Writing file \" + file)\n",
    "        jsonld = createsd(day)\n",
    "        f = open(path, \"w\")\n",
    "        f.write(json.dumps(jsonld))\n",
    "        f.close()"
   ]
  },
  {
   "cell_type": "code",
   "execution_count": 3,
   "metadata": {},
   "outputs": [],
   "source": []
  }
 ],
 "metadata": {
  "kernelspec": {
   "display_name": "Python 3",
   "language": "python",
   "name": "python3"
  },
  "language_info": {
   "codemirror_mode": {
    "name": "ipython",
    "version": 3
   },
   "file_extension": ".py",
   "mimetype": "text/x-python",
   "name": "python",
   "nbconvert_exporter": "python",
   "pygments_lexer": "ipython3",
   "version": "3.9.4"
  }
 },
 "nbformat": 4,
 "nbformat_minor": 1
}