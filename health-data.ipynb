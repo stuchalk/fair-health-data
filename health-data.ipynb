{
 "cells": [
  {
   "cell_type": "markdown",
   "metadata": {
    "pycharm": {
     "name": "#%% md\n"
    }
   },
   "source": [
    "### Select and upload your .csv data file"
   ]
  },
  {
   "cell_type": "code",
   "execution_count": 1,
   "metadata": {
    "pycharm": {
     "name": "#%%\n"
    }
   },
   "outputs": [
    {
     "name": "stdout",
     "output_type": "stream",
     "text": [
      "File /Users/n00002621/Dropbox/Websites/github/fair-health-data/healthdata.csv selected\n"
     ]
    }
   ],
   "source": [
    "from PyQt5 import QtWidgets\n",
    "fldr = \"\"\n",
    "app = QtWidgets.QApplication([fldr])\n",
    "fname = QtWidgets.QFileDialog.getOpenFileName(None, \"Select a file...\", fldr, filter=\"All files (*)\")\n",
    "filename = fname[0]\n",
    "print (\"File \" + filename + \" selected\")"
   ]
  },
  {
   "cell_type": "markdown",
   "metadata": {
    "pycharm": {
     "name": "#%% md\n"
    }
   },
   "source": [
    "### Import your CSV data file into a variable"
   ]
  },
  {
   "cell_type": "code",
   "execution_count": 2,
   "metadata": {
    "pycharm": {
     "name": "#%%\n"
    }
   },
   "outputs": [
    {
     "name": "stdout",
     "output_type": "stream",
     "text": [
      "File /Users/n00002621/Dropbox/Websites/github/fair-health-data/healthdata.csv imported\n"
     ]
    }
   ],
   "source": [
    "import csv\n",
    "flist = []\n",
    "with open(filename, 'r') as data:\n",
    "    for line in csv.reader(data):\n",
    "        flist.append(line)\n",
    "print (\"File \" + filename + \" imported\")"
   ]
  },
  {
   "cell_type": "markdown",
   "metadata": {
    "pycharm": {
     "name": "#%% md\n"
    }
   },
   "source": [
    "### Create and save any new data files"
   ]
  },
  {
   "cell_type": "code",
   "execution_count": 3,
   "metadata": {
    "pycharm": {
     "name": "#%%\n"
    }
   },
   "outputs": [
    {
     "name": "stdout",
     "output_type": "stream",
     "text": [
      "Writing file sjc010121.jsonld\n",
      "Writing file sjc010221.jsonld\n",
      "Writing file sjc010321.jsonld\n",
      "Writing file sjc010421.jsonld\n",
      "Writing file sjc010521.jsonld\n",
      "Writing file sjc010621.jsonld\n",
      "Writing file sjc010721.jsonld\n",
      "Writing file sjc010821.jsonld\n",
      "Writing file sjc010921.jsonld\n",
      "Writing file sjc011021.jsonld\n",
      "Writing file sjc011121.jsonld\n",
      "Writing file sjc011221.jsonld\n",
      "Writing file sjc011321.jsonld\n",
      "Writing file sjc011421.jsonld\n",
      "Writing file sjc011521.jsonld\n",
      "Writing file sjc011621.jsonld\n",
      "Writing file sjc011721.jsonld\n",
      "Writing file sjc011821.jsonld\n",
      "Writing file sjc011921.jsonld\n",
      "Writing file sjc012021.jsonld\n",
      "Writing file sjc012121.jsonld\n",
      "Writing file sjc012221.jsonld\n",
      "Writing file sjc012321.jsonld\n",
      "Writing file sjc012421.jsonld\n",
      "Writing file sjc012521.jsonld\n",
      "Writing file sjc012621.jsonld\n",
      "Writing file sjc012721.jsonld\n",
      "Writing file sjc012821.jsonld\n",
      "Writing file sjc012921.jsonld\n",
      "Writing file sjc013021.jsonld\n",
      "Writing file sjc013121.jsonld\n",
      "Writing file sjc020121.jsonld\n",
      "Writing file sjc020221.jsonld\n",
      "Writing file sjc020321.jsonld\n",
      "Writing file sjc020421.jsonld\n",
      "Writing file sjc020521.jsonld\n",
      "Writing file sjc020621.jsonld\n",
      "Writing file sjc020721.jsonld\n",
      "Writing file sjc020821.jsonld\n",
      "Writing file sjc020921.jsonld\n",
      "Writing file sjc021021.jsonld\n",
      "Writing file sjc021121.jsonld\n",
      "Writing file sjc021221.jsonld\n",
      "Writing file sjc021321.jsonld\n",
      "Writing file sjc021421.jsonld\n",
      "Writing file sjc021521.jsonld\n",
      "Writing file sjc021621.jsonld\n",
      "Writing file sjc021721.jsonld\n",
      "Writing file sjc021821.jsonld\n",
      "Writing file sjc021921.jsonld\n",
      "Writing file sjc022021.jsonld\n",
      "Writing file sjc022121.jsonld\n",
      "Writing file sjc022221.jsonld\n",
      "Writing file sjc022321.jsonld\n",
      "Writing file sjc022421.jsonld\n",
      "Writing file sjc022521.jsonld\n",
      "Writing file sjc022621.jsonld\n",
      "Writing file sjc022721.jsonld\n",
      "Writing file sjc022821.jsonld\n",
      "Writing file sjc030121.jsonld\n",
      "Writing file sjc030221.jsonld\n",
      "Writing file sjc030321.jsonld\n",
      "Writing file sjc030421.jsonld\n",
      "Writing file sjc030521.jsonld\n",
      "Writing file sjc030621.jsonld\n",
      "Writing file sjc030721.jsonld\n",
      "Writing file sjc030821.jsonld\n",
      "Writing file sjc030921.jsonld\n",
      "Writing file sjc031021.jsonld\n",
      "Writing file sjc031121.jsonld\n",
      "Writing file sjc031221.jsonld\n",
      "Writing file sjc031321.jsonld\n",
      "Writing file sjc031421.jsonld\n",
      "Writing file sjc031521.jsonld\n",
      "Writing file sjc031621.jsonld\n",
      "Writing file sjc031721.jsonld\n",
      "Writing file sjc031821.jsonld\n",
      "Writing file sjc031921.jsonld\n",
      "Writing file sjc032021.jsonld\n",
      "Writing file sjc032121.jsonld\n",
      "Writing file sjc032221.jsonld\n",
      "Writing file sjc032321.jsonld\n",
      "Writing file sjc032421.jsonld\n",
      "Writing file sjc032521.jsonld\n",
      "Writing file sjc032621.jsonld\n",
      "Writing file sjc032721.jsonld\n",
      "Writing file sjc032821.jsonld\n",
      "Writing file sjc032921.jsonld\n",
      "Writing file sjc033021.jsonld\n",
      "Writing file sjc033121.jsonld\n",
      "Writing file sjc041021.jsonld\n",
      "Writing file sjc041121.jsonld\n",
      "Writing file sjc041221.jsonld\n",
      "Writing file sjc041321.jsonld\n",
      "Writing file sjc041421.jsonld\n",
      "Writing file sjc041521.jsonld\n",
      "Writing file sjc041621.jsonld\n"
     ]
    }
   ],
   "source": [
    "from writesd import createsd\n",
    "from datetime import datetime\n",
    "from pathlib import Path\n",
    "import json\n",
    "for i,day in enumerate(flist):\n",
    "    if i == 0:\n",
    "        continue\n",
    "    t = datetime.strptime(day[1], '%m/%d/%y')\n",
    "    date = t.strftime('%m%d%y')\n",
    "    file = \"sjc\" + date + \".jsonld\"\n",
    "    path = Path(\"data/\" + file)\n",
    "    if not path.is_file():\n",
    "        print(\"Writing file \" + file)\n",
    "        jsonld = createsd(day)\n",
    "        f = open(path, \"w\")\n",
    "        f.write(json.dumps(jsonld))\n",
    "        f.close()"
   ]
  },
  {
   "cell_type": "code",
   "execution_count": null,
   "metadata": {},
   "outputs": [],
   "source": []
  }
 ],
 "metadata": {
  "kernelspec": {
   "display_name": "Python 3",
   "language": "python",
   "name": "python3"
  },
  "language_info": {
   "codemirror_mode": {
    "name": "ipython",
    "version": 3
   },
   "file_extension": ".py",
   "mimetype": "text/x-python",
   "name": "python",
   "nbconvert_exporter": "python",
   "pygments_lexer": "ipython3",
   "version": "3.9.4"
  }
 },
 "nbformat": 4,
 "nbformat_minor": 1
}